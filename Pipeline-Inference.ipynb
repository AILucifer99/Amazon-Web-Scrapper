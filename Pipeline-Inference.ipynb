{
 "cells": [
  {
   "cell_type": "code",
   "execution_count": 1,
   "id": "85fa986b",
   "metadata": {},
   "outputs": [],
   "source": [
    "import requests\n",
    "from bs4 import BeautifulSoup"
   ]
  },
  {
   "cell_type": "code",
   "execution_count": 2,
   "id": "48e70269",
   "metadata": {},
   "outputs": [],
   "source": [
    "import pandas as pd\n",
    "import numpy as np"
   ]
  },
  {
   "cell_type": "code",
   "execution_count": 3,
   "id": "cc05971e",
   "metadata": {},
   "outputs": [],
   "source": [
    "root_url = \"https://www.amazon.com/s?k=apple+iphone&sprefix=apple+%2Caps%2C307&ref=nb_sb_ss_ts-doa-p_3_6\"\n",
    "\n",
    "HTTPS_HEADERS = (\n",
    "    {\n",
    "        'User-Agent': \"Mozilla/5.0 (Windows NT 10.0; Win64; x64) AppleWebKit/537.36 (KHTML, like Gecko) Chrome/114.0.0.0 Safari/537.36\", \n",
    "         \"Accept-Language\": \"en-US, en;q=0.5\"\n",
    "    }\n",
    ")\n"
   ]
  },
  {
   "cell_type": "code",
   "execution_count": 4,
   "id": "f6dc980f",
   "metadata": {},
   "outputs": [],
   "source": [
    "web_page = requests.get(root_url, headers=HTTPS_HEADERS)"
   ]
  },
  {
   "cell_type": "code",
   "execution_count": 5,
   "id": "01531dd4",
   "metadata": {},
   "outputs": [
    {
     "data": {
      "text/plain": [
       "<Response [200]>"
      ]
     },
     "execution_count": 5,
     "metadata": {},
     "output_type": "execute_result"
    }
   ],
   "source": [
    "web_page"
   ]
  },
  {
   "cell_type": "code",
   "execution_count": 7,
   "id": "75c02c53",
   "metadata": {},
   "outputs": [],
   "source": [
    "soup = BeautifulSoup(web_page.content, \"html.parser\")"
   ]
  },
  {
   "cell_type": "code",
   "execution_count": 13,
   "id": "8fbf3a83",
   "metadata": {},
   "outputs": [],
   "source": [
    "links = soup.find_all(\"a\", attrs={\"class\": \"a-link-normal s-underline-text s-underline-link-text s-link-style a-text-normal\"})"
   ]
  },
  {
   "cell_type": "code",
   "execution_count": 16,
   "id": "71ea3593",
   "metadata": {},
   "outputs": [],
   "source": [
    "link = links[0].get(\"href\")"
   ]
  },
  {
   "cell_type": "code",
   "execution_count": 17,
   "id": "07568fd7",
   "metadata": {},
   "outputs": [],
   "source": [
    "product_link = \"https://amazon.com\" + link"
   ]
  },
  {
   "cell_type": "code",
   "execution_count": 18,
   "id": "ba672db2",
   "metadata": {},
   "outputs": [
    {
     "data": {
      "text/plain": [
       "'https://amazon.com/TracFone-iPhone-SE-5G-Black/dp/B09VY7RXJ9/ref=sr_1_1?keywords=apple+iphone&qid=1686064775&sprefix=apple+%2Caps%2C307&sr=8-1'"
      ]
     },
     "execution_count": 18,
     "metadata": {},
     "output_type": "execute_result"
    }
   ],
   "source": [
    "product_link"
   ]
  },
  {
   "cell_type": "code",
   "execution_count": 19,
   "id": "be2afb17",
   "metadata": {},
   "outputs": [],
   "source": [
    "new_web_page = requests.get(product_link, headers=HTTPS_HEADERS)"
   ]
  },
  {
   "cell_type": "code",
   "execution_count": 20,
   "id": "6047688c",
   "metadata": {},
   "outputs": [
    {
     "data": {
      "text/plain": [
       "<Response [200]>"
      ]
     },
     "execution_count": 20,
     "metadata": {},
     "output_type": "execute_result"
    }
   ],
   "source": [
    "new_web_page"
   ]
  },
  {
   "cell_type": "code",
   "execution_count": 21,
   "id": "4de22b37",
   "metadata": {},
   "outputs": [],
   "source": [
    "new_soup = BeautifulSoup(new_web_page.content, \"html.parser\")"
   ]
  },
  {
   "cell_type": "code",
   "execution_count": 27,
   "id": "5315f4e9",
   "metadata": {},
   "outputs": [],
   "source": [
    "first_name = new_soup.find(\"span\", attrs={\"id\": \"productTitle\"}).text.strip()"
   ]
  },
  {
   "cell_type": "code",
   "execution_count": 25,
   "id": "18b07991",
   "metadata": {},
   "outputs": [
    {
     "data": {
      "text/plain": [
       "<span class=\"a-price aok-align-center\" data-a-color=\"base\" data-a-size=\"xl\"><span class=\"a-offscreen\">$399.00</span><span aria-hidden=\"true\"><span class=\"a-price-symbol\">$</span><span class=\"a-price-whole\">399<span class=\"a-price-decimal\">.</span></span><span class=\"a-price-fraction\">00</span></span></span>"
      ]
     },
     "execution_count": 25,
     "metadata": {},
     "output_type": "execute_result"
    }
   ],
   "source": [
    "new_soup.find(\"span\", attrs={\"class\": \"a-price aok-align-center\"})"
   ]
  },
  {
   "cell_type": "code",
   "execution_count": 28,
   "id": "443a5497",
   "metadata": {},
   "outputs": [],
   "source": [
    "first_price = new_soup.find(\"span\", attrs={\"class\": \"a-price aok-align-center\"}).find(\n",
    "    \"span\", attrs={\"class\": \"a-offscreen\"}\n",
    ").text.strip()"
   ]
  },
  {
   "cell_type": "code",
   "execution_count": 33,
   "id": "1ba5c187",
   "metadata": {},
   "outputs": [],
   "source": [
    "rating_first = new_soup.find(\"span\", attrs={\"class\": \"a-icon-alt\"}).text.strip()"
   ]
  },
  {
   "cell_type": "code",
   "execution_count": 34,
   "id": "f3797ec1",
   "metadata": {},
   "outputs": [
    {
     "name": "stdout",
     "output_type": "stream",
     "text": [
      "The First Item is :- TracFone Apple iPhone SE 5G (3rd Generation), 64GB, Black - Prepaid Smartphone (Locked)\n",
      "\n",
      "\n",
      "The Price :- $399.00\n",
      "\n",
      "\n",
      "The Ratings are :- 3.8 out of 5 stars\n"
     ]
    }
   ],
   "source": [
    "print(\"The First Item is :- {}\".format(first_name))\n",
    "print(\"\\n\")\n",
    "print(\"The Price :- {}\".format(first_price))\n",
    "print(\"\\n\")\n",
    "print(\"The Ratings are :- {}\".format(rating_first))"
   ]
  },
  {
   "cell_type": "code",
   "execution_count": 41,
   "id": "6e95f2d4",
   "metadata": {},
   "outputs": [],
   "source": [
    "from bs4 import BeautifulSoup\n",
    "import requests\n",
    "import pandas as pd\n",
    "import numpy as np\n",
    "from tqdm import tqdm as tqdm\n",
    "\n",
    "\n",
    "# Function to extract Product Title\n",
    "def getTitleFunction(soup):\n",
    "\n",
    "    try:\n",
    "        # Outer Tag Object\n",
    "        title = soup.find(\"span\", attrs={\"id\":'productTitle'})\n",
    "        \n",
    "        # Inner NavigatableString Object\n",
    "        title_value = title.text\n",
    "\n",
    "        # Title as a string value\n",
    "        title_string = title_value.strip()\n",
    "\n",
    "    except AttributeError:\n",
    "        title_string = \"\"\n",
    "\n",
    "    return title_string\n",
    "\n",
    "\n",
    "# Function to extract Product Price\n",
    "def getPriceFunction(soup):\n",
    "\n",
    "    try:\n",
    "        price = soup.find(\"span\", attrs={\"class\": \"a-price aok-align-center\"}).find(\n",
    "                \"span\", attrs={\"class\": \"a-offscreen\"}\n",
    "            ).text.strip()\n",
    "        \n",
    "    except AttributeError:\n",
    "\n",
    "        try:\n",
    "            # If there is some deal price\n",
    "            price = soup.find(\"span\", attrs={\"class\": \"a-offscreen\"}).string.strip()\n",
    "\n",
    "        except:\n",
    "            price = \"\"\n",
    "\n",
    "    return price\n",
    "\n",
    "\n",
    "# Function to extract Product Rating\n",
    "def getRatingFunction(soup):\n",
    "\n",
    "    try:\n",
    "        rating = soup.find(\"i\", attrs={\"class\" : \"a-icon a-icon-star a-star-4 cm-cr-review-stars-spacing-big\"}).string.strip()\n",
    "    \n",
    "    except AttributeError:\n",
    "        try:\n",
    "            rating = soup.find(\"span\", attrs={'class':'a-icon-alt'}).string.strip()\n",
    "        except:\n",
    "            rating = \"\"\t\n",
    "\n",
    "    return rating\n",
    "\n",
    "\n",
    "# Function to extract Number of User Reviews\n",
    "def getReviewCountFunction(soup):\n",
    "    try:\n",
    "        review_count = soup.find(\"span\", attrs={'id':'acrCustomerReviewText'}).string.strip()\n",
    "\n",
    "    except AttributeError:\n",
    "        review_count = \"\"\t\n",
    "\n",
    "    return review_count\n",
    "\n",
    "\n",
    "# Function to extract Availability Status\n",
    "def getAvailabilityFunction(soup):\n",
    "    try:\n",
    "        available = soup.find(\"div\", attrs={'id':'availability'})\n",
    "        available = available.find(\"span\").string.strip()\n",
    "\n",
    "    except AttributeError:\n",
    "        available = \"Not Available\"\t\n",
    "\n",
    "    return available\n",
    "\n",
    "\n",
    "if __name__ == '__main__':\n",
    "\n",
    "    root_url = \"https://www.amazon.com/s?k=apple+iphone&sprefix=apple+%2Caps%2C307&ref=nb_sb_ss_ts-doa-p_3_6\"\n",
    "\n",
    "    HTTPS_HEADERS = (\n",
    "        {\n",
    "            'User-Agent': \"Mozilla/5.0 (Windows NT 10.0; Win64; x64) AppleWebKit/537.36 (KHTML, like Gecko) Chrome/114.0.0.0 Safari/537.36\", \n",
    "             \"Accept-Language\": \"en-US, en;q=0.5\"\n",
    "        }\n",
    "    )\n",
    "\n",
    "    # HTTP Request\n",
    "    webpage = requests.get(root_url, headers=HTTPS_HEADERS)\n",
    "\n",
    "    # Soup Object containing all data\n",
    "    soup = BeautifulSoup(webpage.content, \"html.parser\")\n",
    "\n",
    "    # Fetch links as List of Tag Objects\n",
    "    links = soup.find_all(\"a\", attrs={'class':'a-link-normal s-no-outline'})\n",
    "\n",
    "    # Store the links\n",
    "    links_list = []\n",
    "\n",
    "    # Loop for extracting links from Tag Objects\n",
    "    for link in tqdm(links) :\n",
    "            links_list.append(link.get('href'))\n",
    "\n",
    "    d = {\"title\":[], \"price\":[], \"rating\":[], \"reviews\":[]}\n",
    "    \n",
    "    # Loop for extracting product details from each link \n",
    "    print(\"Performing the Web Scrapping, please wait a while.....\")\n",
    "    for link in tqdm(links_list) :\n",
    "        try :\n",
    "            new_webpage = requests.get(\"https://www.amazon.com\" + link, headers=HTTPS_HEADERS)\n",
    "            \n",
    "            new_soup = BeautifulSoup(new_webpage.content, \"html.parser\")\n",
    "            \n",
    "            # Function calls to display all necessary product information\n",
    "            d['title'].append(getTitleFunction(new_soup))\n",
    "            d['price'].append(getPriceFunction(new_soup))\n",
    "            d['rating'].append(getRatingFunction(new_soup))\n",
    "            d['reviews'].append(getReviewCountFunction(new_soup))\n",
    "            \n",
    "        except Exception as exp :\n",
    "            print(\"HTTPS Exception occured.....\")\n",
    "            print(\"Ignoring and trying to continue....\")\n",
    "            continue\n",
    "            \n",
    "    amazon_df = pd.DataFrame.from_dict(d)\n",
    "    amazon_df['title'].replace('', np.nan, inplace=True)\n",
    "    amazon_df = amazon_df.dropna(subset=['title'])\n",
    "    amazon_df.to_csv(\"amazon_data.csv\", header=True, index=False)"
   ]
  },
  {
   "cell_type": "code",
   "execution_count": 55,
   "id": "e230b281",
   "metadata": {},
   "outputs": [
    {
     "data": {
      "text/html": [
       "<div>\n",
       "<style scoped>\n",
       "    .dataframe tbody tr th:only-of-type {\n",
       "        vertical-align: middle;\n",
       "    }\n",
       "\n",
       "    .dataframe tbody tr th {\n",
       "        vertical-align: top;\n",
       "    }\n",
       "\n",
       "    .dataframe thead th {\n",
       "        text-align: right;\n",
       "    }\n",
       "</style>\n",
       "<table border=\"1\" class=\"dataframe\">\n",
       "  <thead>\n",
       "    <tr style=\"text-align: right;\">\n",
       "      <th></th>\n",
       "      <th>title</th>\n",
       "      <th>price</th>\n",
       "      <th>rating</th>\n",
       "      <th>reviews</th>\n",
       "      <th>availability</th>\n",
       "    </tr>\n",
       "  </thead>\n",
       "  <tbody>\n",
       "    <tr>\n",
       "      <th>5</th>\n",
       "      <td>Apple iPhone 11, 64GB, Black - Unlocked (Renewed)</td>\n",
       "      <td>$299.00</td>\n",
       "      <td>4.3 out of 5 stars</td>\n",
       "      <td>38,383 ratings</td>\n",
       "      <td>Not Available</td>\n",
       "    </tr>\n",
       "    <tr>\n",
       "      <th>6</th>\n",
       "      <td>Apple iPhone 8, US Version, 64GB, Space Gray -...</td>\n",
       "      <td>$130.00</td>\n",
       "      <td>4.3 out of 5 stars</td>\n",
       "      <td>51,440 ratings</td>\n",
       "      <td>Not Available</td>\n",
       "    </tr>\n",
       "    <tr>\n",
       "      <th>7</th>\n",
       "      <td>Apple iPhone XR, 64GB, Black - Unlocked (Renewed)</td>\n",
       "      <td>$229.00</td>\n",
       "      <td>4.5 out of 5 stars</td>\n",
       "      <td>58,842 ratings</td>\n",
       "      <td>Not Available</td>\n",
       "    </tr>\n",
       "    <tr>\n",
       "      <th>8</th>\n",
       "      <td>Apple iPhone SE 2nd Generation, US Version, 64...</td>\n",
       "      <td>$141.00</td>\n",
       "      <td>4.3 out of 5 stars</td>\n",
       "      <td>10,988 ratings</td>\n",
       "      <td>Not Available</td>\n",
       "    </tr>\n",
       "    <tr>\n",
       "      <th>9</th>\n",
       "      <td>Apple iPhone 12, 64GB, Blue - Fully Unlocked (...</td>\n",
       "      <td>$379.75</td>\n",
       "      <td>4.2 out of 5 stars</td>\n",
       "      <td>8,076 ratings</td>\n",
       "      <td>Not Available</td>\n",
       "    </tr>\n",
       "    <tr>\n",
       "      <th>10</th>\n",
       "      <td>Apple iPhone 8 Plus, 64GB, Space Gray - Unlock...</td>\n",
       "      <td>$179.99</td>\n",
       "      <td>4.4 out of 5 stars</td>\n",
       "      <td>25,880 ratings</td>\n",
       "      <td>Not Available</td>\n",
       "    </tr>\n",
       "    <tr>\n",
       "      <th>11</th>\n",
       "      <td>Apple iPhone XS, US Version, 64GB, Space Gray ...</td>\n",
       "      <td>$230.00</td>\n",
       "      <td>4.3 out of 5 stars</td>\n",
       "      <td>17,581 ratings</td>\n",
       "      <td>Not Available</td>\n",
       "    </tr>\n",
       "    <tr>\n",
       "      <th>12</th>\n",
       "      <td>Apple iPhone 11 Pro, US Version, 256GB, Space ...</td>\n",
       "      <td>$649.99</td>\n",
       "      <td>4.2 out of 5 stars</td>\n",
       "      <td>18,124 ratings</td>\n",
       "      <td>Not Available</td>\n",
       "    </tr>\n",
       "    <tr>\n",
       "      <th>13</th>\n",
       "      <td>Apple iPhone X, US Version, 64GB, Silver - Unl...</td>\n",
       "      <td>$219.89</td>\n",
       "      <td>4.2 out of 5 stars</td>\n",
       "      <td>23,185 ratings</td>\n",
       "      <td>Not Available</td>\n",
       "    </tr>\n",
       "    <tr>\n",
       "      <th>14</th>\n",
       "      <td>Apple iPhone 12 Pro, 256GB, Graphite - Fully U...</td>\n",
       "      <td>$558.82</td>\n",
       "      <td>4.2 out of 5 stars</td>\n",
       "      <td>3,669 ratings</td>\n",
       "      <td>Not Available</td>\n",
       "    </tr>\n",
       "    <tr>\n",
       "      <th>15</th>\n",
       "      <td>Apple iPhone 13, 128GB, Pink - Unlocked (Renewed)</td>\n",
       "      <td>$595.00</td>\n",
       "      <td>4.4 out of 5 stars</td>\n",
       "      <td>2,176 ratings</td>\n",
       "      <td>Not Available</td>\n",
       "    </tr>\n",
       "    <tr>\n",
       "      <th>16</th>\n",
       "      <td>Apple iPhone 14, 128GB, Midnight - Unlocked (R...</td>\n",
       "      <td>Page 1 of 1</td>\n",
       "      <td>4.4 out of 5 stars</td>\n",
       "      <td>339 ratings</td>\n",
       "      <td>Currently unavailable.</td>\n",
       "    </tr>\n",
       "    <tr>\n",
       "      <th>17</th>\n",
       "      <td>Apple iPhone 13 Pro Max, 256GB, Graphite - Unl...</td>\n",
       "      <td>$899.00</td>\n",
       "      <td>4.4 out of 5 stars</td>\n",
       "      <td>1,314 ratings</td>\n",
       "      <td>Not Available</td>\n",
       "    </tr>\n",
       "    <tr>\n",
       "      <th>18</th>\n",
       "      <td>Apple iPhone 12 Pro Max, 128GB, Pacific Blue -...</td>\n",
       "      <td>$639.95</td>\n",
       "      <td>4.2 out of 5 stars</td>\n",
       "      <td>3,180 ratings</td>\n",
       "      <td>Not Available</td>\n",
       "    </tr>\n",
       "    <tr>\n",
       "      <th>19</th>\n",
       "      <td>Apple iPhone SE 3rd Gen, 64GB, Midnight - Unlo...</td>\n",
       "      <td>$359.00</td>\n",
       "      <td>4.5 out of 5 stars</td>\n",
       "      <td>435 ratings</td>\n",
       "      <td>Not Available</td>\n",
       "    </tr>\n",
       "    <tr>\n",
       "      <th>20</th>\n",
       "      <td>Apple Ipad Air 2 64GB Factory Unlocked (Space ...</td>\n",
       "      <td>$189.36</td>\n",
       "      <td>4.2 out of 5 stars</td>\n",
       "      <td>719 ratings</td>\n",
       "      <td>Not Available</td>\n",
       "    </tr>\n",
       "    <tr>\n",
       "      <th>21</th>\n",
       "      <td>Apple iPhone 11, 64GB, Black - Unlocked (Renewed)</td>\n",
       "      <td>$299.00</td>\n",
       "      <td>4.3 out of 5 stars</td>\n",
       "      <td>38,383 ratings</td>\n",
       "      <td>Not Available</td>\n",
       "    </tr>\n",
       "    <tr>\n",
       "      <th>22</th>\n",
       "      <td>Apple iPhone 12, 64GB, Blue - Fully Unlocked (...</td>\n",
       "      <td>$379.75</td>\n",
       "      <td>4.2 out of 5 stars</td>\n",
       "      <td>8,076 ratings</td>\n",
       "      <td>Not Available</td>\n",
       "    </tr>\n",
       "    <tr>\n",
       "      <th>23</th>\n",
       "      <td>Apple iPhone XR, 64GB, Black - Unlocked (Renewed)</td>\n",
       "      <td>$229.00</td>\n",
       "      <td>4.5 out of 5 stars</td>\n",
       "      <td>58,842 ratings</td>\n",
       "      <td>Not Available</td>\n",
       "    </tr>\n",
       "    <tr>\n",
       "      <th>24</th>\n",
       "      <td>Apple iPhone SE (2nd Generation), US Version, ...</td>\n",
       "      <td>$174.95</td>\n",
       "      <td>4.3 out of 5 stars</td>\n",
       "      <td>10,988 ratings</td>\n",
       "      <td>Not Available</td>\n",
       "    </tr>\n",
       "    <tr>\n",
       "      <th>25</th>\n",
       "      <td>Apple iPhone XS, 64GB, Gold - Fully Unlocked (...</td>\n",
       "      <td>$229.48</td>\n",
       "      <td>4.3 out of 5 stars</td>\n",
       "      <td>17,581 ratings</td>\n",
       "      <td>Not Available</td>\n",
       "    </tr>\n",
       "    <tr>\n",
       "      <th>26</th>\n",
       "      <td>Apple iPhone 12 Pro, 256GB, Graphite - Fully U...</td>\n",
       "      <td>$558.82</td>\n",
       "      <td>4.2 out of 5 stars</td>\n",
       "      <td>3,669 ratings</td>\n",
       "      <td>Not Available</td>\n",
       "    </tr>\n",
       "  </tbody>\n",
       "</table>\n",
       "</div>"
      ],
      "text/plain": [
       "                                                title        price  \\\n",
       "5   Apple iPhone 11, 64GB, Black - Unlocked (Renewed)      $299.00   \n",
       "6   Apple iPhone 8, US Version, 64GB, Space Gray -...      $130.00   \n",
       "7   Apple iPhone XR, 64GB, Black - Unlocked (Renewed)      $229.00   \n",
       "8   Apple iPhone SE 2nd Generation, US Version, 64...      $141.00   \n",
       "9   Apple iPhone 12, 64GB, Blue - Fully Unlocked (...      $379.75   \n",
       "10  Apple iPhone 8 Plus, 64GB, Space Gray - Unlock...      $179.99   \n",
       "11  Apple iPhone XS, US Version, 64GB, Space Gray ...      $230.00   \n",
       "12  Apple iPhone 11 Pro, US Version, 256GB, Space ...      $649.99   \n",
       "13  Apple iPhone X, US Version, 64GB, Silver - Unl...      $219.89   \n",
       "14  Apple iPhone 12 Pro, 256GB, Graphite - Fully U...      $558.82   \n",
       "15  Apple iPhone 13, 128GB, Pink - Unlocked (Renewed)      $595.00   \n",
       "16  Apple iPhone 14, 128GB, Midnight - Unlocked (R...  Page 1 of 1   \n",
       "17  Apple iPhone 13 Pro Max, 256GB, Graphite - Unl...      $899.00   \n",
       "18  Apple iPhone 12 Pro Max, 128GB, Pacific Blue -...      $639.95   \n",
       "19  Apple iPhone SE 3rd Gen, 64GB, Midnight - Unlo...      $359.00   \n",
       "20  Apple Ipad Air 2 64GB Factory Unlocked (Space ...      $189.36   \n",
       "21  Apple iPhone 11, 64GB, Black - Unlocked (Renewed)      $299.00   \n",
       "22  Apple iPhone 12, 64GB, Blue - Fully Unlocked (...      $379.75   \n",
       "23  Apple iPhone XR, 64GB, Black - Unlocked (Renewed)      $229.00   \n",
       "24  Apple iPhone SE (2nd Generation), US Version, ...      $174.95   \n",
       "25  Apple iPhone XS, 64GB, Gold - Fully Unlocked (...      $229.48   \n",
       "26  Apple iPhone 12 Pro, 256GB, Graphite - Fully U...      $558.82   \n",
       "\n",
       "                rating         reviews            availability  \n",
       "5   4.3 out of 5 stars  38,383 ratings           Not Available  \n",
       "6   4.3 out of 5 stars  51,440 ratings           Not Available  \n",
       "7   4.5 out of 5 stars  58,842 ratings           Not Available  \n",
       "8   4.3 out of 5 stars  10,988 ratings           Not Available  \n",
       "9   4.2 out of 5 stars   8,076 ratings           Not Available  \n",
       "10  4.4 out of 5 stars  25,880 ratings           Not Available  \n",
       "11  4.3 out of 5 stars  17,581 ratings           Not Available  \n",
       "12  4.2 out of 5 stars  18,124 ratings           Not Available  \n",
       "13  4.2 out of 5 stars  23,185 ratings           Not Available  \n",
       "14  4.2 out of 5 stars   3,669 ratings           Not Available  \n",
       "15  4.4 out of 5 stars   2,176 ratings           Not Available  \n",
       "16  4.4 out of 5 stars     339 ratings  Currently unavailable.  \n",
       "17  4.4 out of 5 stars   1,314 ratings           Not Available  \n",
       "18  4.2 out of 5 stars   3,180 ratings           Not Available  \n",
       "19  4.5 out of 5 stars     435 ratings           Not Available  \n",
       "20  4.2 out of 5 stars     719 ratings           Not Available  \n",
       "21  4.3 out of 5 stars  38,383 ratings           Not Available  \n",
       "22  4.2 out of 5 stars   8,076 ratings           Not Available  \n",
       "23  4.5 out of 5 stars  58,842 ratings           Not Available  \n",
       "24  4.3 out of 5 stars  10,988 ratings           Not Available  \n",
       "25  4.3 out of 5 stars  17,581 ratings           Not Available  \n",
       "26  4.2 out of 5 stars   3,669 ratings           Not Available  "
      ]
     },
     "execution_count": 55,
     "metadata": {},
     "output_type": "execute_result"
    }
   ],
   "source": [
    "amazon_df"
   ]
  },
  {
   "cell_type": "code",
   "execution_count": null,
   "id": "9257a60d",
   "metadata": {},
   "outputs": [],
   "source": []
  }
 ],
 "metadata": {
  "kernelspec": {
   "display_name": "Python 3 (ipykernel)",
   "language": "python",
   "name": "python3"
  },
  "language_info": {
   "codemirror_mode": {
    "name": "ipython",
    "version": 3
   },
   "file_extension": ".py",
   "mimetype": "text/x-python",
   "name": "python",
   "nbconvert_exporter": "python",
   "pygments_lexer": "ipython3",
   "version": "3.8.5"
  }
 },
 "nbformat": 4,
 "nbformat_minor": 5
}
